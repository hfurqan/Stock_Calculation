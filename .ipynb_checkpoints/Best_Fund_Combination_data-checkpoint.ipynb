{
 "cells": [
  {
   "cell_type": "code",
   "execution_count": 1,
   "metadata": {
    "scrolled": true
   },
   "outputs": [],
   "source": [
    "#for the sake of first commit\n",
    "import pandas as pd\n",
    "import numpy as np\n",
    "import datetime as dt\n",
    "import matplotlib as mt\n",
    "from dateutil.relativedelta import *\n",
    "\n",
    "np.set_printoptions(suppress=True)"
   ]
  },
  {
   "cell_type": "code",
   "execution_count": 2,
   "metadata": {
    "scrolled": true
   },
   "outputs": [],
   "source": [
    "def compute_daily_returns(df):\n",
    "    daily_returns=(df/df.shift(1))-1\n",
    "    df=df.fillna(value=0)\n",
    "    daily_returns=daily_returns[1:]\n",
    "    return daily_returns\n",
    "\n"
   ]
  },
  {
   "cell_type": "code",
   "execution_count": 3,
   "metadata": {
    "scrolled": true
   },
   "outputs": [],
   "source": [
    "def var_calculator(data_frame, start_date, end_date):\n",
    "    value_at_risk_matrix = []\n",
    "    returns_daily = compute_daily_returns(data_frame)\n",
    "    \n",
    "    for symbol in kse30_symbols:\n",
    "        returns_matrix = returns_daily.loc[start_date : end_date,'{}'.format(symbol)]\n",
    "        return_matrix = np.array(returns_matrix)\n",
    "        value_at_risk = np.percentile(return_matrix, 100 * (1-0.99))\n",
    "        #print(value_at_risk)\n",
    "        cvarcalc = np.nanmean(returns_matrix < value_at_risk)\n",
    "        #print(cvarcalc)\n",
    "        value_at_risk_matrix.append(cvarcalc)\n",
    "    var_df = pd.DataFrame(data = value_at_risk_matrix, index=kse30_symbols)\n",
    "    return var_df\n",
    "\n"
   ]
  },
  {
   "cell_type": "code",
   "execution_count": 4,
   "metadata": {
    "scrolled": true
   },
   "outputs": [],
   "source": [
    "def stock_picker(data_frame, start_date, start_date_test, end_date_test,number_of_stocks_selected,principal_amount):\n",
    "    var_df = var_calculator(data_frame, start_date, start_date_test)\n",
    "    var_df.sort_values(by = 0 ,axis = 0, ascending = False, inplace = True)\n",
    "    \n",
    "    ######### Calculating for the best combination ########################\n",
    "    amount_in_one = principal_amount / number_of_stocks_selected\n",
    "    \n",
    "    symbols_to_invest = var_df.index.values.tolist()[0:number_of_stocks_selected]\n",
    "    symbols_to_invest_df = data_frame.loc[start_date_test:end_date_test ,symbols_to_invest]\n",
    "    symbols_to_invest_returns = compute_daily_returns(symbols_to_invest_df)\n",
    "    symbols_to_invest_returns = symbols_to_invest_returns + 1\n",
    "    symbols_to_invest_returns.iloc[0,:] = symbols_to_invest_returns.iloc[0,:] * amount_in_one  \n",
    "    symbols_to_invest_returns = symbols_to_invest_returns.cumprod()\n",
    "    symbols_to_invest_returns['Aggregated_Return_Combination'] = symbols_to_invest_returns.iloc[:, 0:].sum(axis=1)\n",
    "    symbols_to_invest_returns = symbols_to_invest_returns.iloc[:,number_of_stocks_selected:]\n",
    "    \n",
    "    ########## Calculating for all stocks ##########################\n",
    "    amount_in_all = principal_amount / len(data_frame.columns)\n",
    "    \n",
    "    symbols_all = var_df.index.values.tolist()[0:len(data_frame.columns)]\n",
    "    symbols_all_df = data_frame.loc[start_date_test:end_date_test ,symbols_all]\n",
    "    symbols_all_returns = compute_daily_returns(symbols_all_df)\n",
    "    symbols_all_returns = symbols_all_returns + 1\n",
    "    symbols_all_returns.iloc[0,:] = symbols_all_returns.iloc[0,:] * amount_in_all\n",
    "    symbols_all_returns = symbols_all_returns.cumprod()\n",
    "    symbols_all_returns['Aggregated_Return_all']= symbols_all_returns.iloc[:, 0:].sum(axis=1)\n",
    "    symbols_all_returns = symbols_all_returns.iloc[:,len(data_frame.columns):]\n",
    "    \n",
    "    ########## Merging Both and returning ##########################\n",
    "    df = symbols_all_returns.merge(symbols_to_invest_returns,how='outer', left_index=True, right_index=True)\n",
    "    \n",
    "    return df"
   ]
  },
  {
   "cell_type": "code",
   "execution_count": 5,
   "metadata": {
    "scrolled": true
   },
   "outputs": [],
   "source": [
    "df = pd.read_csv('E:\\\\Stock\\\\Data\\\\NAVS.csv')\n",
    "df = df.iloc[:,1:]\n",
    "df.iloc[:,0] = pd.to_datetime(df.iloc[:,0])\n",
    "df = df.set_index('Date')"
   ]
  },
  {
   "cell_type": "code",
   "execution_count": 6,
   "metadata": {
    "scrolled": true
   },
   "outputs": [],
   "source": [
    "kse30_symbols = list(df)"
   ]
  },
  {
   "cell_type": "code",
   "execution_count": 7,
   "metadata": {
    "scrolled": true
   },
   "outputs": [],
   "source": [
    "#testing = stock_picker(df,'2018-01-01','2018-08-01','2018-08-31',3,100000)\n",
    "#testing.sum()\n"
   ]
  },
  {
   "cell_type": "code",
   "execution_count": 8,
   "metadata": {
    "scrolled": true
   },
   "outputs": [],
   "source": [
    "#testing"
   ]
  },
  {
   "cell_type": "code",
   "execution_count": 9,
   "metadata": {
    "scrolled": true
   },
   "outputs": [],
   "source": [
    "def back_tester(data_frame,start_date,no_of_training_months,number_of_stocks_selected,principal_amount):\n",
    "    start_date = pd.to_datetime(start_date)\n",
    "    start_date_test =  start_date+relativedelta(months=+no_of_training_months)\n",
    "    #start_date_test =  start_date+relativedelta(days=+1)\n",
    "    end_date_test = start_date_test+relativedelta(months=+1)\n",
    "    funds_returns = stock_picker(df,start_date,start_date_test,end_date_test,number_of_stocks_selected,principal_amount)\n",
    "    updated_amount = funds_returns.iloc[funds_returns.shape[0]-1:,1:]\n",
    "    return updated_amount['Aggregated_Return_Combination'].iloc[0],funds_returns"
   ]
  },
  {
   "cell_type": "code",
   "execution_count": 10,
   "metadata": {
    "scrolled": true
   },
   "outputs": [],
   "source": [
    "#updated_amount, funds_returns = back_tester(df,'2018-01-01',7,3,100000)"
   ]
  },
  {
   "cell_type": "code",
   "execution_count": 11,
   "metadata": {
    "scrolled": true
   },
   "outputs": [],
   "source": [
    "max_date = df.index.max()\n",
    "min_date = df.index.min()\n",
    "no_of_months_in_data = (max_date.year - min_date.year) * 12 + max_date.month - min_date.month\n",
    "principal_amount = 100000\n",
    "Start_month = 7"
   ]
  },
  {
   "cell_type": "code",
   "execution_count": 12,
   "metadata": {
    "scrolled": true
   },
   "outputs": [
    {
     "name": "stderr",
     "output_type": "stream",
     "text": [
      "C:\\ProgramData\\Anaconda3\\lib\\site-packages\\numpy\\lib\\function_base.py:3652: RuntimeWarning: Invalid value encountered in percentile\n",
      "  interpolation=interpolation)\n"
     ]
    }
   ],
   "source": [
    "Total_Returns = []\n",
    "for x in range(Start_month,no_of_months_in_data+1):\n",
    "    updated_amount, returns = back_tester(df,min_date,x,3,principal_amount)\n",
    "    principal_amount = updated_amount\n",
    "    #if x == no_of_months_in_data:\n",
    "    Total_Returns.append(returns)\n",
    "    del returns,updated_amount\n",
    "    "
   ]
  },
  {
   "cell_type": "code",
   "execution_count": 13,
   "metadata": {
    "scrolled": true
   },
   "outputs": [
    {
     "data": {
      "text/plain": [
       "[            Aggregated_Return_all  Aggregated_Return_Combination\n",
       " Date                                                            \n",
       " 2018-08-02           99793.146317                  100017.966964\n",
       " 2018-08-03           99854.120493                  100034.210038\n",
       " 2018-08-06           99950.031330                   99875.983501\n",
       " 2018-08-07           99921.616261                   99893.448040\n",
       " 2018-08-08           99954.291322                   99900.894746\n",
       " 2018-08-09          100060.122774                   99914.356769\n",
       " 2018-08-10          100076.874833                   99935.347404\n",
       " 2018-08-13          100050.610297                   99981.509780\n",
       " 2018-08-14           60077.212651                   99997.809424\n",
       " 2018-08-15           60085.069025                  100008.368119\n",
       " 2018-08-16           99899.246485                  100029.043858\n",
       " 2018-08-17          100124.575895                  100047.707150\n",
       " 2018-08-20          100174.841949                  100018.517742\n",
       " 2018-08-21           30012.334821                   33157.529274\n",
       " 2018-08-22           30015.838117                   33163.694945\n",
       " 2018-08-23           30019.331521                   33169.827645\n",
       " 2018-08-24           90213.616116                  100056.532300\n",
       " 2018-08-27          100396.964665                  100105.127148\n",
       " 2018-08-28          100303.744254                  100118.414657\n",
       " 2018-08-29          100216.702242                  100141.223997\n",
       " 2018-08-30          100011.379424                  100157.407620\n",
       " 2018-08-31           99892.106687                  100173.728925,\n",
       "             Aggregated_Return_all  Aggregated_Return_Combination\n",
       " Date                                                            \n",
       " 2018-09-04          100301.776100                  100189.202214\n",
       " 2018-09-05          100193.710894                  100207.428925\n",
       " 2018-09-06          100087.535829                  100227.721800\n",
       " 2018-09-07           99905.630770                  100246.366717\n",
       " 2018-09-10           99808.126702                  100147.549426\n",
       " 2018-09-11           99919.787444                  100162.604440\n",
       " 2018-09-12           99828.970859                  100175.154479\n",
       " 2018-09-13          100097.007756                  100194.134797\n",
       " 2018-09-14          100062.950765                  100217.009254\n",
       " 2018-09-17           99860.247202                  100268.223761\n",
       " 2018-09-18          100196.888656                  100268.788748\n",
       " 2018-09-19          100206.856799                  100288.087869\n",
       " 2018-09-20           20051.609307                   33366.631771\n",
       " 2018-09-21           10043.255947                       0.000000\n",
       " 2018-09-24           10048.105324                       0.000000\n",
       " 2018-09-25          100286.273589                  100312.062837\n",
       " 2018-09-26          100216.998103                  100330.534532\n",
       " 2018-09-27          100185.935015                  100352.483020\n",
       " 2018-09-28          100310.580414                  100368.420635\n",
       " 2018-10-01           80235.913027                   66995.468333,\n",
       "             Aggregated_Return_all  Aggregated_Return_Combination\n",
       " Date                                                            \n",
       " 2018-10-02           53570.243870                   44671.062280\n",
       " 2018-10-03           53471.436822                   44682.313649\n",
       " 2018-10-04           53294.412243                   44692.565017\n",
       " 2018-10-05           53025.410253                   44696.330680\n",
       " 2018-10-08           52592.348829                   44707.541300\n",
       " 2018-10-09           52941.327024                   44724.817087\n",
       " 2018-10-10           53096.330228                   44735.802527\n",
       " 2018-10-11           52936.681601                   44733.392032\n",
       " 2018-10-12           52631.703312                   44741.553830\n",
       " 2018-10-15           52419.556247                   44762.532640\n",
       " 2018-10-16           52454.498195                   44768.066846\n",
       " 2018-10-17           52818.388889                   44774.211787\n",
       " 2018-10-18           52880.518540                   44788.321319\n",
       " 2018-10-19           53040.131349                   44797.165812\n",
       " 2018-10-22           53043.732413                   44813.331776\n",
       " 2018-10-23           52797.488269                   44821.865939\n",
       " 2018-10-24           53380.002522                   44833.069018\n",
       " 2018-10-25           53468.184503                   44862.240393\n",
       " 2018-10-26           53813.389499                   44872.760724\n",
       " 2018-10-29           54161.663215                   44900.328682\n",
       " 2018-10-30           54206.362541                   44912.173133\n",
       " 2018-10-31           54141.054653                   44920.314196\n",
       " 2018-11-01           54146.968475                   44926.924238,\n",
       "             Aggregated_Return_all  Aggregated_Return_Combination\n",
       " Date                                                            \n",
       " 2018-11-02           44995.631296                   44935.666935\n",
       " 2018-11-05           44878.216052                   44945.818604\n",
       " 2018-11-06           44737.919446                   44948.472802\n",
       " 2018-11-07           44919.551653                   44948.615844\n",
       " 2018-11-08           44850.330800                   44907.906883\n",
       " 2018-11-09           44866.498394                   44917.002802\n",
       " 2018-11-12           44800.998996                   44947.290801\n",
       " 2018-11-13           44828.890595                   44949.247929\n",
       " 2018-11-14           44741.161372                   44953.809999\n",
       " 2018-11-15           44858.102259                   44960.790588\n",
       " 2018-11-16           44929.675317                   44966.349002\n",
       " 2018-11-19           44870.567136                   44945.382635\n",
       " 2018-11-20           44903.469109                   44952.266723\n",
       " 2018-11-21           13499.964967                   14948.159735\n",
       " 2018-11-22           13502.808074                   14951.533635\n",
       " 2018-11-23           44917.366311                   44963.446527\n",
       " 2018-11-26           44911.978972                   45001.753182\n",
       " 2018-11-27           44963.140654                   45011.026923\n",
       " 2018-11-28           44928.564709                   45019.163450\n",
       " 2018-11-29           44932.096946                   45033.515210\n",
       " 2018-11-30           44909.819437                   45037.738122,\n",
       "             Aggregated_Return_all  Aggregated_Return_Combination\n",
       " Date                                                            \n",
       " 2018-12-04           45172.371942                   45041.964874\n",
       " 2018-12-05           45095.985667                   45052.125076\n",
       " 2018-12-06           44857.065970                   45062.392529\n",
       " 2018-12-07           44923.166668                   45068.658225]"
      ]
     },
     "execution_count": 13,
     "metadata": {},
     "output_type": "execute_result"
    }
   ],
   "source": [
    "Total_Returns"
   ]
  }
 ],
 "metadata": {
  "kernelspec": {
   "display_name": "Python 3",
   "language": "python",
   "name": "python3"
  },
  "language_info": {
   "codemirror_mode": {
    "name": "ipython",
    "version": 3
   },
   "file_extension": ".py",
   "mimetype": "text/x-python",
   "name": "python",
   "nbconvert_exporter": "python",
   "pygments_lexer": "ipython3",
   "version": "3.7.0"
  }
 },
 "nbformat": 4,
 "nbformat_minor": 2
}
