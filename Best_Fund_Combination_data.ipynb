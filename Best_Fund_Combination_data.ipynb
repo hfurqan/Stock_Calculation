{
 "cells": [
  {
   "cell_type": "code",
   "execution_count": 51,
   "metadata": {
    "scrolled": true
   },
   "outputs": [],
   "source": [
    "import pandas as pd\n",
    "import numpy as np\n",
    "import datetime as dt\n",
    "import matplotlib as mt\n",
    "from dateutil.relativedelta import *\n",
    "\n",
    "np.set_printoptions(suppress=True)"
   ]
  },
  {
   "cell_type": "code",
   "execution_count": 52,
   "metadata": {
    "scrolled": true
   },
   "outputs": [],
   "source": [
    "def compute_daily_returns(df):\n",
    "    daily_returns=(df/df.shift(1))-1\n",
    "    df=df.fillna(value=0)\n",
    "    daily_returns=daily_returns[1:]\n",
    "    return daily_returns\n"
   ]
  },
  {
   "cell_type": "code",
   "execution_count": 53,
   "metadata": {
    "scrolled": true
   },
   "outputs": [],
   "source": [
    "def var_calculator(data_frame, start_date, end_date):\n",
    "    value_at_risk_matrix = []\n",
    "    returns_daily = compute_daily_returns(data_frame)\n",
    "    \n",
    "    for symbol in kse30_symbols:\n",
    "        returns_matrix = returns_daily.loc[start_date : end_date,'{}'.format(symbol)]\n",
    "        return_matrix = np.array(returns_matrix)\n",
    "        value_at_risk = np.percentile(return_matrix, 100 * (1-0.99))\n",
    "        #print(value_at_risk)\n",
    "        cvarcalc = np.nanmean(returns_matrix < value_at_risk)\n",
    "        #print(cvarcalc)\n",
    "        value_at_risk_matrix.append(cvarcalc)\n",
    "    var_df = pd.DataFrame(data = value_at_risk_matrix, index=kse30_symbols)\n",
    "    return var_df"
   ]
  },
  {
   "cell_type": "code",
   "execution_count": 54,
   "metadata": {
    "scrolled": true
   },
   "outputs": [],
   "source": [
    "def stock_picker(data_frame, start_date, start_date_test, end_date_test,number_of_stocks_selected,principal_amount,principal_amount_all):\n",
    "    var_df = var_calculator(data_frame, start_date, start_date_test)\n",
    "    var_df.sort_values(by = 0 ,axis = 0, ascending = False, inplace = True)\n",
    "    \n",
    "    ######### Calculating for the best combination ########################\n",
    "    amount_in_one = principal_amount / number_of_stocks_selected\n",
    "    \n",
    "    symbols_to_invest = var_df.index.values.tolist()[0:number_of_stocks_selected]\n",
    "    symbols_to_invest_df = data_frame.loc[start_date_test:end_date_test ,symbols_to_invest]\n",
    "    symbols_to_invest_returns = compute_daily_returns(symbols_to_invest_df)\n",
    "    symbols_to_invest_returns = symbols_to_invest_returns + 1\n",
    "    symbols_to_invest_returns.iloc[0,:] = symbols_to_invest_returns.iloc[0,:] * amount_in_one  \n",
    "    symbols_to_invest_returns = symbols_to_invest_returns.cumprod()\n",
    "    symbols_to_invest_returns['Aggregated_Return_Combination'] = symbols_to_invest_returns.iloc[:, 0:].sum(axis=1)\n",
    "    symbols_to_invest_returns = symbols_to_invest_returns.iloc[:,number_of_stocks_selected:]\n",
    "    \n",
    "    ########## Calculating for all stocks ##########################\n",
    "    amount_in_all = principal_amount_all / len(data_frame.columns)\n",
    "    \n",
    "    symbols_all = var_df.index.values.tolist()[0:len(data_frame.columns)]\n",
    "    symbols_all_df = data_frame.loc[start_date_test:end_date_test ,symbols_all]\n",
    "    symbols_all_returns = compute_daily_returns(symbols_all_df)\n",
    "    symbols_all_returns = symbols_all_returns + 1\n",
    "    symbols_all_returns.iloc[0,:] = symbols_all_returns.iloc[0,:] * amount_in_all\n",
    "    symbols_all_returns = symbols_all_returns.cumprod()\n",
    "    symbols_all_returns['Aggregated_Return_all']= symbols_all_returns.iloc[:, 0:].sum(axis=1)\n",
    "    symbols_all_returns = symbols_all_returns.iloc[:,len(data_frame.columns):]\n",
    "    \n",
    "    ########## Merging Both and returning ##########################\n",
    "    df = symbols_all_returns.merge(symbols_to_invest_returns,how='outer', left_index=True, right_index=True)\n",
    "    \n",
    "    return df"
   ]
  },
  {
   "cell_type": "code",
   "execution_count": 77,
   "metadata": {},
   "outputs": [],
   "source": [
    "def back_tester(data_frame,start_date,no_of_training_months,number_of_stocks_selected,principal_amount,principal_amount_all):\n",
    "    start_date = pd.to_datetime(start_date)\n",
    "    start_date_test =  start_date+relativedelta(months=+no_of_training_months)\n",
    "    #start_date_test =  start_date+relativedelta(days=+1)\n",
    "    end_date_test = start_date_test+relativedelta(months=+1)\n",
    "    funds_returns = stock_picker(df,start_date,start_date_test,end_date_test,number_of_stocks_selected,principal_amount,principal_amount_all)\n",
    "    updated_amount = funds_returns.iloc[funds_returns.shape[0]-1:,0:]\n",
    "    #updated_amount_all = funds_returns.iloc[funds_returns.shape[0]-1:,0:]\n",
    "    return updated_amount['Aggregated_Return_Combination'].iloc[0],updated_amount['Aggregated_Return_all'].iloc[0],funds_returns"
   ]
  },
  {
   "cell_type": "code",
   "execution_count": 78,
   "metadata": {
    "scrolled": true
   },
   "outputs": [],
   "source": [
    "start_date = '2018-01-01'\n",
    "end_date = '2018-12-07'\n",
    "dates = pd.date_range(start_date, end_date)\n",
    "df = pd.DataFrame(index = dates) \n",
    "df_temp = pd.read_csv('E://Stock_Calculation//data.csv', index_col = 'Date', parse_dates = True)\n",
    "#df = df.iloc[:,1:]\n",
    "#df.iloc[:,0] = pd.to_datetime(df.iloc[:,0])\n",
    "#df = df.set_index('Date')\n",
    "df = df.join(df_temp)\n",
    "df = df.fillna(method='ffill')\n",
    "df = df.fillna(method='bfill')"
   ]
  },
  {
   "cell_type": "code",
   "execution_count": 79,
   "metadata": {
    "scrolled": true
   },
   "outputs": [],
   "source": [
    "kse30_symbols = list(df)"
   ]
  },
  {
   "cell_type": "code",
   "execution_count": 80,
   "metadata": {
    "scrolled": true
   },
   "outputs": [],
   "source": [
    "max_date = df.index.max()\n",
    "min_date = df.index.min()\n",
    "no_of_months_in_data = (max_date.year - min_date.year) * 12 + max_date.month - min_date.month\n",
    "principal_amount = 100000\n",
    "principal_amount_all = 100000\n",
    "Start_month = 7"
   ]
  },
  {
   "cell_type": "code",
   "execution_count": 81,
   "metadata": {
    "scrolled": true
   },
   "outputs": [
    {
     "name": "stderr",
     "output_type": "stream",
     "text": [
      "C:\\ProgramData\\Anaconda3\\lib\\site-packages\\numpy\\lib\\function_base.py:3652: RuntimeWarning: Invalid value encountered in percentile\n",
      "  interpolation=interpolation)\n"
     ]
    }
   ],
   "source": [
    "Total_Returns = []\n",
    "for x in range(Start_month,no_of_months_in_data+1):\n",
    "    updated_amount,updated_amount_all, returns = back_tester(df,min_date,x,3,principal_amount,principal_amount_all)\n",
    "    principal_amount = updated_amount\n",
    "    principal_amount_all = updated_amount_all\n",
    "    #if x == no_of_months_in_data:\n",
    "    Total_Returns.append(returns)\n",
    "    del returns,updated_amount,updated_amount_all"
   ]
  },
  {
   "cell_type": "code",
   "execution_count": 82,
   "metadata": {
    "scrolled": true
   },
   "outputs": [
    {
     "data": {
      "text/plain": [
       "[            Aggregated_Return_all  Aggregated_Return_Combination\n",
       " 2018-08-02           99870.983075                   99822.117033\n",
       " 2018-08-03           99985.446020                   99877.455871\n",
       " 2018-08-04           99985.446020                   99877.455871\n",
       " 2018-08-05           99985.446020                   99877.455871\n",
       " 2018-08-06          100131.669568                  100038.829949\n",
       " 2018-08-07          100164.869564                  100011.100668\n",
       " 2018-08-08          100253.606043                  100006.895183\n",
       " 2018-08-09          100408.848330                  100136.710150\n",
       " 2018-08-10          100483.109352                  100137.926455\n",
       " 2018-08-11          100483.109352                  100137.926455\n",
       " 2018-08-12          100483.109352                  100137.926455\n",
       " 2018-08-13          100518.264378                  100090.662774\n",
       " 2018-08-14          100585.525762                  100102.148579\n",
       " 2018-08-15          100587.547406                  100042.078443\n",
       " 2018-08-16          100494.030753                   99874.859601\n",
       " 2018-08-17          100757.407968                  100075.873053\n",
       " 2018-08-18          100757.407968                  100075.873053\n",
       " 2018-08-19          100757.407968                  100075.873053\n",
       " 2018-08-20          100862.057615                  100146.422322\n",
       " 2018-08-21          100924.301284                  100146.422322\n",
       " 2018-08-22          100986.517976                  100146.422322\n",
       " 2018-08-23          101072.917251                  100184.181991\n",
       " 2018-08-24          101198.447940                  100232.666905\n",
       " 2018-08-25          101198.447940                  100232.666905\n",
       " 2018-08-26          101198.447940                  100232.666905\n",
       " 2018-08-27          101411.483851                  100402.112026\n",
       " 2018-08-28          101385.903006                  100300.376314\n",
       " 2018-08-29          101365.913959                  100251.663633\n",
       " 2018-08-30          101238.530311                  100092.156691\n",
       " 2018-08-31          101189.235757                  100021.026049\n",
       " 2018-09-01          101189.235757                  100021.026049,\n",
       "             Aggregated_Return_all  Aggregated_Return_Combination\n",
       " 2018-09-02          101189.235757                  100021.026049\n",
       " 2018-09-03          101190.984773                  100071.032555\n",
       " 2018-09-04          101360.534112                  100086.489237\n",
       " 2018-09-05          101313.919295                  100104.697304\n",
       " 2018-09-06          101269.038101                  100124.969138\n",
       " 2018-09-07          101154.799996                  100143.594888\n",
       " 2018-09-08          101154.799996                  100143.594888\n",
       " 2018-09-09          101154.799996                  100143.594888\n",
       " 2018-09-10          101117.750372                  100044.872458\n",
       " 2018-09-11          101272.264722                  100059.912434\n",
       " 2018-09-12          101241.416433                  100072.449104\n",
       " 2018-09-13          101539.102007                  100091.409770\n",
       " 2018-09-14          101560.254864                  100114.261385\n",
       " 2018-09-15          101560.254864                  100114.261385\n",
       " 2018-09-16          101560.254864                  100114.261385\n",
       " 2018-09-17          101426.927662                  100165.422985\n",
       " 2018-09-18          101787.196301                  100165.989497\n",
       " 2018-09-19          101848.633755                  100185.268796\n",
       " 2018-09-20          101904.121471                  100191.887193\n",
       " 2018-09-21          101957.891747                  100191.887193\n",
       " 2018-09-22          101957.891747                  100191.887193\n",
       " 2018-09-23          101957.891747                  100191.887193\n",
       " 2018-09-24          101885.585451                  100182.546218\n",
       " 2018-09-25          102001.178666                  100199.875462\n",
       " 2018-09-26          101990.447296                  100218.325537\n",
       " 2018-09-27          102014.552498                  100240.251745\n",
       " 2018-09-28          102180.431206                  100256.168622\n",
       " 2018-09-29          102180.431206                  100256.168622\n",
       " 2018-09-30          102180.431206                  100256.168622\n",
       " 2018-10-01          102229.830587                  100275.759212,\n",
       "             Aggregated_Return_all  Aggregated_Return_Combination\n",
       " 2018-10-02          102254.379719                  100313.700536\n",
       " 2018-10-03          102165.376742                  100335.986611\n",
       " 2018-10-04          101970.416820                  100358.239468\n",
       " 2018-10-05          101648.047905                  100370.784817\n",
       " 2018-10-06          101648.047905                  100370.784817\n",
       " 2018-10-07          101648.047905                  100370.784817\n",
       " 2018-10-08          101078.717232                  100314.022549\n",
       " 2018-10-09          101613.529198                  100346.756019\n",
       " 2018-10-10          101879.258530                  100370.007951\n",
       " 2018-10-11          101708.511875                  100373.309110\n",
       " 2018-10-12          101337.226953                  100394.161664\n",
       " 2018-10-13          101337.226953                  100394.161664\n",
       " 2018-10-14          101337.226953                  100394.161664\n",
       " 2018-10-15          101101.059679                  100446.720838\n",
       " 2018-10-16          101200.304258                  100461.979695\n",
       " 2018-10-17          101755.894961                  100478.318756\n",
       " 2018-10-18          101892.890800                  100506.412771\n",
       " 2018-10-19          102165.087712                  100526.526665\n",
       " 2018-10-20          102165.087712                  100526.526665\n",
       " 2018-10-21          102165.087712                  100526.526665\n",
       " 2018-10-22          102200.466584                  100472.364906\n",
       " 2018-10-23          101909.723042                  100492.313262\n",
       " 2018-10-24          102768.560706                  100516.057029\n",
       " 2018-10-25          102941.935731                  100567.359258\n",
       " 2018-10-26          103471.586639                  100590.047902\n",
       " 2018-10-27          103471.586639                  100590.047902\n",
       " 2018-10-28          103471.586639                  100590.047902\n",
       " 2018-10-29          104012.452753                  100652.336546\n",
       " 2018-10-30          104125.324379                  100677.173158\n",
       " 2018-10-31          104085.566387                  100696.433490\n",
       " 2018-11-01          104144.797194                  100713.036876,\n",
       "             Aggregated_Return_all  Aggregated_Return_Combination\n",
       " 2018-11-02          104332.622565                  100732.635449\n",
       " 2018-11-03          104332.622565                  100732.635449\n",
       " 2018-11-04          104332.622565                  100732.635449\n",
       " 2018-11-05          104128.221715                  100755.392524\n",
       " 2018-11-06          103875.601659                  100761.342461\n",
       " 2018-11-07          104301.400683                  100761.663120\n",
       " 2018-11-08          104198.562644                  100670.405522\n",
       " 2018-11-09          104275.668584                  100690.795916\n",
       " 2018-11-10          104275.668584                  100690.795916\n",
       " 2018-11-11          104275.668584                  100690.795916\n",
       " 2018-11-12          104180.672979                  100758.692760\n",
       " 2018-11-13          104282.485589                  100763.080070\n",
       " 2018-11-14          104140.643797                  100773.306897\n",
       " 2018-11-15          104430.115086                  100788.955338\n",
       " 2018-11-16          104623.980144                  100801.415678\n",
       " 2018-11-17          104623.980144                  100801.415678\n",
       " 2018-11-18          104623.980144                  100801.415678\n",
       " 2018-11-19          104542.453119                  100754.415210\n",
       " 2018-11-20          104654.824376                  100769.847322\n",
       " 2018-11-21          104701.184835                  100772.446165\n",
       " 2018-11-22          104487.285533                  100806.598221\n",
       " 2018-11-23          104550.356794                  100821.501462\n",
       " 2018-11-24          104550.356794                  100821.501462\n",
       " 2018-11-25          104550.356794                  100821.501462\n",
       " 2018-11-26          104582.802647                  100907.399706\n",
       " 2018-11-27          104732.517670                  100928.194070\n",
       " 2018-11-28          104703.597776                  100946.438158\n",
       " 2018-11-29          104754.235997                  100978.620824\n",
       " 2018-11-30          104750.285579                  100988.088049\n",
       " 2018-12-01          104750.285579                  100988.088049,\n",
       "             Aggregated_Return_all  Aggregated_Return_Combination\n",
       " 2018-12-02          104750.285579                  100988.088049\n",
       " 2018-12-03          104232.641423                  101008.906748\n",
       " 2018-12-04          104550.973015                  101018.390999\n",
       " 2018-12-05          104432.563357                  101041.179125\n",
       " 2018-12-06          103977.558589                  101064.207645\n",
       " 2018-12-07          104154.290609                  101078.264173]"
      ]
     },
     "execution_count": 82,
     "metadata": {},
     "output_type": "execute_result"
    }
   ],
   "source": [
    "Total_Returns"
   ]
  },
  {
   "cell_type": "code",
   "execution_count": 34,
   "metadata": {},
   "outputs": [],
   "source": [
    "start_date = '2016-01-01'\n",
    "end_date = '2018-10-31'\n",
    "dates = pd.date_range(start_date, end_date)\n",
    "df = pd.DataFrame(index = dates) \n",
    "df_temp = pd.read_csv('E://Stock_Calculation//KSE_30.csv', index_col = 'Date', parse_dates = True)\n",
    "df = df.join(df_temp)\n",
    "df = df.fillna(method='ffill')\n",
    "df = df.fillna(method='bfill')"
   ]
  },
  {
   "cell_type": "code",
   "execution_count": 35,
   "metadata": {},
   "outputs": [],
   "source": [
    "kse30_symbols = list(df)"
   ]
  },
  {
   "cell_type": "code",
   "execution_count": 48,
   "metadata": {},
   "outputs": [],
   "source": [
    "max_date = df.index.max()\n",
    "min_date = df.index.min()\n",
    "no_of_months_in_data = (max_date.year - min_date.year) * 12 + max_date.month - min_date.month\n",
    "principal_amount = 100000\n",
    "Start_month = 30"
   ]
  },
  {
   "cell_type": "code",
   "execution_count": 49,
   "metadata": {},
   "outputs": [],
   "source": [
    "Total_Returns = []\n",
    "for x in range(Start_month,no_of_months_in_data+1):\n",
    "    updated_amount, returns = back_tester(df,min_date,x,3,principal_amount)\n",
    "    principal_amount = updated_amount\n",
    "    #if x == no_of_months_in_data:\n",
    "    Total_Returns.append(returns)\n",
    "    del returns,updated_amount"
   ]
  },
  {
   "cell_type": "code",
   "execution_count": 50,
   "metadata": {},
   "outputs": [
    {
     "data": {
      "text/plain": [
       "[            Aggregated_Return_all  Aggregated_Return_Combination\n",
       " 2018-07-02           99518.359719                   98760.675640\n",
       " 2018-07-03           99029.446319                   97980.027149\n",
       " 2018-07-04           95586.404333                   94997.304624\n",
       " 2018-07-05           95625.549596                   94830.478678\n",
       " 2018-07-06           95948.364456                   94567.344211\n",
       " 2018-07-07           95948.364456                   94567.344211\n",
       " 2018-07-08           95948.364456                   94567.344211\n",
       " 2018-07-09           92799.478457                   93295.401289\n",
       " 2018-07-10           93143.996920                   94067.046050\n",
       " 2018-07-11           93405.455468                   94435.319161\n",
       " 2018-07-12           94205.494281                   94080.001865\n",
       " 2018-07-13           94861.064368                   93575.761198\n",
       " 2018-07-14           94861.064368                   93575.761198\n",
       " 2018-07-15           94861.064368                   93575.761198\n",
       " 2018-07-16           92923.014912                   92846.241342\n",
       " 2018-07-17           94007.361393                   92613.854131\n",
       " 2018-07-18           96823.074269                   94096.374186\n",
       " 2018-07-19           99627.906936                   95841.236137\n",
       " 2018-07-20           98063.632540                   94932.687524\n",
       " 2018-07-21           98063.632540                   94932.687524\n",
       " 2018-07-22           98063.632540                   94932.687524\n",
       " 2018-07-23           96020.172715                   92891.616630\n",
       " 2018-07-24           98885.326491                   95223.286793\n",
       " 2018-07-25           98885.326491                   95223.286793\n",
       " 2018-07-26          101126.010459                   97503.960746\n",
       " 2018-07-27          103122.641004                   98049.975260\n",
       " 2018-07-28          103122.641004                   98049.975260\n",
       " 2018-07-29          103122.641004                   98049.975260\n",
       " 2018-07-30          105801.493246                  100133.763367\n",
       " 2018-07-31          103025.324909                   98667.358093\n",
       " 2018-08-01          103808.914397                   98649.733478,\n",
       "             Aggregated_Return_all  Aggregated_Return_Combination\n",
       " 2018-08-02           97916.766435                   98248.744490\n",
       " 2018-08-03           98379.419238                   98304.915965\n",
       " 2018-08-04           98379.419238                   98304.915965\n",
       " 2018-08-05           98379.419238                   98304.915965\n",
       " 2018-08-06           99242.172499                   99026.999731\n",
       " 2018-08-07           99335.133115                   99091.006773\n",
       " 2018-08-08           99101.127602                   99691.920237\n",
       " 2018-08-09           99791.899008                   98973.610258\n",
       " 2018-08-10           99319.814569                   99381.221503\n",
       " 2018-08-11           99319.814569                   99381.221503\n",
       " 2018-08-12           99319.814569                   99381.221503\n",
       " 2018-08-13           98558.611455                   99466.525959\n",
       " 2018-08-14           98558.611455                   99466.525959\n",
       " 2018-08-15           97774.659496                   99239.588678\n",
       " 2018-08-16           96220.915101                   98740.401225\n",
       " 2018-08-17           97897.881174                   99270.091991\n",
       " 2018-08-18           97897.881174                   99270.091991\n",
       " 2018-08-19           97897.881174                   99270.091991\n",
       " 2018-08-20           97756.721792                   99208.697712\n",
       " 2018-08-21           97756.721792                   99208.697712\n",
       " 2018-08-22           97756.721792                   99208.697712\n",
       " 2018-08-23           97756.721792                   99208.697712\n",
       " 2018-08-24           98253.893376                   99866.779323\n",
       " 2018-08-25           98253.893376                   99866.779323\n",
       " 2018-08-26           98253.893376                   99866.779323\n",
       " 2018-08-27           99048.895092                  100580.838416\n",
       " 2018-08-28           98478.833555                  100517.955025\n",
       " 2018-08-29           97530.234277                  100405.120906\n",
       " 2018-08-30           96609.096653                   99964.499811\n",
       " 2018-08-31           95916.306452                  100164.495640\n",
       " 2018-09-01           95916.306452                  100164.495640,\n",
       "             Aggregated_Return_all  Aggregated_Return_Combination\n",
       " 2018-09-02          100164.495640                  100164.495640\n",
       " 2018-09-03           99877.521178                   99264.682803\n",
       " 2018-09-04          100306.422698                   99356.734883\n",
       " 2018-09-05           99887.407361                   99093.505229\n",
       " 2018-09-06           98638.868373                   98359.199100\n",
       " 2018-09-07           97535.760667                   97500.881561\n",
       " 2018-09-08           97535.760667                   97500.881561\n",
       " 2018-09-09           97535.760667                   97500.881561\n",
       " 2018-09-10           97538.838457                   97298.496309\n",
       " 2018-09-11           97836.148496                   97586.350136\n",
       " 2018-09-12           96677.951454                   96717.680655\n",
       " 2018-09-13           98079.386578                   97728.626494\n",
       " 2018-09-14           97365.902479                   97569.109380\n",
       " 2018-09-15           97365.902479                   97569.109380\n",
       " 2018-09-16           97365.902479                   97569.109380\n",
       " 2018-09-17           94864.977244                   96709.459620\n",
       " 2018-09-18           97014.655850                   98004.614325\n",
       " 2018-09-19           97019.176491                   97474.871445\n",
       " 2018-09-20           97019.176491                   97474.871445\n",
       " 2018-09-21           97019.176491                   97474.871445\n",
       " 2018-09-22           97019.176491                   97474.871445\n",
       " 2018-09-23           97019.176491                   97474.871445\n",
       " 2018-09-24           95215.931209                   96523.248727\n",
       " 2018-09-25           95180.767682                   96314.907844\n",
       " 2018-09-26           94507.080802                   95614.699680\n",
       " 2018-09-27           94214.211108                   95719.631345\n",
       " 2018-09-28           93753.917166                   94703.555890\n",
       " 2018-09-29           93753.917166                   94703.555890\n",
       " 2018-09-30           93753.917166                   94703.555890\n",
       " 2018-10-01           93607.507993                   94738.890810,\n",
       "             Aggregated_Return_all  Aggregated_Return_Combination\n",
       " 2018-10-02           94380.655467                   95078.620722\n",
       " 2018-10-03           93740.410776                   94227.747670\n",
       " 2018-10-04           92288.374716                   93843.238736\n",
       " 2018-10-05           89349.309683                   92256.209088\n",
       " 2018-10-06           89349.309683                   92256.209088\n",
       " 2018-10-07           89349.309683                   92256.209088\n",
       " 2018-10-08           85889.015116                   89380.540746\n",
       " 2018-10-09           87015.641578                   92907.563769\n",
       " 2018-10-10           87632.595559                   92690.015051\n",
       " 2018-10-11           86539.301400                   92058.229969\n",
       " 2018-10-12           83729.208951                   87249.191756\n",
       " 2018-10-13           83729.208951                   87249.191756\n",
       " 2018-10-14           83729.208951                   87249.191756\n",
       " 2018-10-15           81637.744008                   85714.264786\n",
       " 2018-10-16           80822.195618                   85427.236475\n",
       " 2018-10-17           83394.802675                   87571.066276\n",
       " 2018-10-18           84536.617934                   88272.414182\n",
       " 2018-10-19           86450.491509                   88122.648114\n",
       " 2018-10-20           86450.491509                   88122.648114\n",
       " 2018-10-21           86450.491509                   88122.648114\n",
       " 2018-10-22           86488.929337                   86112.458099\n",
       " 2018-10-23           84665.420800                   84632.236070\n",
       " 2018-10-24           88519.309758                   88281.436962\n",
       " 2018-10-25           90275.807823                   89923.479109\n",
       " 2018-10-26           92874.011774                   92553.223361\n",
       " 2018-10-27           92874.011774                   92553.223361\n",
       " 2018-10-28           92874.011774                   92553.223361\n",
       " 2018-10-29           95701.386414                   93015.470712\n",
       " 2018-10-30           95881.158837                   91850.396008\n",
       " 2018-10-31           95964.026070                   91454.983926]"
      ]
     },
     "execution_count": 50,
     "metadata": {},
     "output_type": "execute_result"
    }
   ],
   "source": [
    "Total_Returns"
   ]
  },
  {
   "cell_type": "code",
   "execution_count": null,
   "metadata": {},
   "outputs": [],
   "source": []
  }
 ],
 "metadata": {
  "kernelspec": {
   "display_name": "Python 3",
   "language": "python",
   "name": "python3"
  },
  "language_info": {
   "codemirror_mode": {
    "name": "ipython",
    "version": 3
   },
   "file_extension": ".py",
   "mimetype": "text/x-python",
   "name": "python",
   "nbconvert_exporter": "python",
   "pygments_lexer": "ipython3",
   "version": "3.7.0"
  }
 },
 "nbformat": 4,
 "nbformat_minor": 2
}
