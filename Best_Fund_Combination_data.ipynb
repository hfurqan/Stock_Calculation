{
 "cells": [
  {
   "cell_type": "code",
   "execution_count": 13,
   "metadata": {
    "scrolled": true
   },
   "outputs": [],
   "source": [
    "import pandas as pd\n",
    "import numpy as np\n",
    "import datetime as dt\n",
    "import matplotlib as mt\n",
    "from dateutil.relativedelta import *\n",
    "\n",
    "np.set_printoptions(suppress=True)"
   ]
  },
  {
   "cell_type": "code",
   "execution_count": 14,
   "metadata": {
    "scrolled": true
   },
   "outputs": [],
   "source": [
    "def compute_daily_returns(df):\n",
    "    daily_returns=(df/df.shift(1))-1\n",
    "    df=df.fillna(value=0)\n",
    "    daily_returns=daily_returns[1:]\n",
    "    return daily_returns\n"
   ]
  },
  {
   "cell_type": "code",
   "execution_count": 15,
   "metadata": {
    "scrolled": true
   },
   "outputs": [],
   "source": [
    "def var_calculator(data_frame, start_date, end_date):\n",
    "    value_at_risk_matrix = []\n",
    "    returns_daily = compute_daily_returns(data_frame)\n",
    "    \n",
    "    for symbol in kse30_symbols:\n",
    "        returns_matrix = returns_daily.loc[start_date : end_date,'{}'.format(symbol)]\n",
    "        return_matrix = np.array(returns_matrix)\n",
    "        value_at_risk = np.percentile(return_matrix, 100 * (1-0.99))\n",
    "        #print(value_at_risk)\n",
    "        cvarcalc = np.nanmean(returns_matrix < value_at_risk)\n",
    "        #print(cvarcalc)\n",
    "        value_at_risk_matrix.append(cvarcalc)\n",
    "    var_df = pd.DataFrame(data = value_at_risk_matrix, index=kse30_symbols)\n",
    "    return var_df"
   ]
  },
  {
   "cell_type": "code",
   "execution_count": 16,
   "metadata": {
    "scrolled": true
   },
   "outputs": [],
   "source": [
    "def stock_picker(data_frame, start_date, start_date_test, end_date_test,number_of_stocks_selected,principal_amount):\n",
    "    var_df = var_calculator(data_frame, start_date, start_date_test)\n",
    "    var_df.sort_values(by = 0 ,axis = 0, ascending = False, inplace = True)\n",
    "    \n",
    "    ######### Calculating for the best combination ########################\n",
    "    amount_in_one = principal_amount / number_of_stocks_selected\n",
    "    \n",
    "    symbols_to_invest = var_df.index.values.tolist()[0:number_of_stocks_selected]\n",
    "    symbols_to_invest_df = data_frame.loc[start_date_test:end_date_test ,symbols_to_invest]\n",
    "    symbols_to_invest_returns = compute_daily_returns(symbols_to_invest_df)\n",
    "    symbols_to_invest_returns = symbols_to_invest_returns + 1\n",
    "    symbols_to_invest_returns.iloc[0,:] = symbols_to_invest_returns.iloc[0,:] * amount_in_one  \n",
    "    symbols_to_invest_returns = symbols_to_invest_returns.cumprod()\n",
    "    symbols_to_invest_returns['Aggregated_Return_Combination'] = symbols_to_invest_returns.iloc[:, 0:].sum(axis=1)\n",
    "    symbols_to_invest_returns = symbols_to_invest_returns.iloc[:,number_of_stocks_selected:]\n",
    "    \n",
    "    ########## Calculating for all stocks ##########################\n",
    "    amount_in_all = principal_amount / len(data_frame.columns)\n",
    "    \n",
    "    symbols_all = var_df.index.values.tolist()[0:len(data_frame.columns)]\n",
    "    symbols_all_df = data_frame.loc[start_date_test:end_date_test ,symbols_all]\n",
    "    symbols_all_returns = compute_daily_returns(symbols_all_df)\n",
    "    symbols_all_returns = symbols_all_returns + 1\n",
    "    symbols_all_returns.iloc[0,:] = symbols_all_returns.iloc[0,:] * amount_in_all\n",
    "    symbols_all_returns = symbols_all_returns.cumprod()\n",
    "    symbols_all_returns['Aggregated_Return_all']= symbols_all_returns.iloc[:, 0:].sum(axis=1)\n",
    "    symbols_all_returns = symbols_all_returns.iloc[:,len(data_frame.columns):]\n",
    "    \n",
    "    ########## Merging Both and returning ##########################\n",
    "    df = symbols_all_returns.merge(symbols_to_invest_returns,how='outer', left_index=True, right_index=True)\n",
    "    \n",
    "    return df"
   ]
  },
  {
   "cell_type": "code",
   "execution_count": 17,
   "metadata": {},
   "outputs": [],
   "source": [
    "def back_tester(data_frame,start_date,no_of_training_months,number_of_stocks_selected,principal_amount):\n",
    "    start_date = pd.to_datetime(start_date)\n",
    "    start_date_test =  start_date+relativedelta(months=+no_of_training_months)\n",
    "    #start_date_test =  start_date+relativedelta(days=+1)\n",
    "    end_date_test = start_date_test+relativedelta(months=+1)\n",
    "    funds_returns = stock_picker(df,start_date,start_date_test,end_date_test,number_of_stocks_selected,principal_amount)\n",
    "    updated_amount = funds_returns.iloc[funds_returns.shape[0]-1:,1:]\n",
    "    return updated_amount['Aggregated_Return_Combination'].iloc[0],funds_returns"
   ]
  },
  {
   "cell_type": "code",
   "execution_count": 18,
   "metadata": {
    "scrolled": true
   },
   "outputs": [],
   "source": [
    "start_date = '2018-01-01'\n",
    "end_date = '2018-12-07'\n",
    "dates = pd.date_range(start_date, end_date)\n",
    "df = pd.DataFrame(index = dates) \n",
    "df_temp = pd.read_csv('E://Stock//data.csv', index_col = 'Date', parse_dates = True)\n",
    "#df = df.iloc[:,1:]\n",
    "#df.iloc[:,0] = pd.to_datetime(df.iloc[:,0])\n",
    "#df = df.set_index('Date')\n",
    "df = df.join(df_temp)\n",
    "df = df.fillna(method='ffill')\n",
    "df = df.fillna(method='bfill')"
   ]
  },
  {
   "cell_type": "code",
   "execution_count": 19,
   "metadata": {
    "scrolled": true
   },
   "outputs": [],
   "source": [
    "kse30_symbols = list(df)"
   ]
  },
  {
   "cell_type": "code",
   "execution_count": 20,
   "metadata": {
    "scrolled": true
   },
   "outputs": [],
   "source": [
    "max_date = df.index.max()\n",
    "min_date = df.index.min()\n",
    "no_of_months_in_data = (max_date.year - min_date.year) * 12 + max_date.month - min_date.month\n",
    "principal_amount = 100000\n",
    "Start_month = 7"
   ]
  },
  {
   "cell_type": "code",
   "execution_count": 21,
   "metadata": {
    "scrolled": true
   },
   "outputs": [
    {
     "name": "stderr",
     "output_type": "stream",
     "text": [
      "C:\\ProgramData\\Anaconda3\\lib\\site-packages\\numpy\\lib\\function_base.py:3652: RuntimeWarning: Invalid value encountered in percentile\n",
      "  interpolation=interpolation)\n"
     ]
    }
   ],
   "source": [
    "Total_Returns = []\n",
    "for x in range(Start_month,no_of_months_in_data+1):\n",
    "    updated_amount, returns = back_tester(df,min_date,x,3,principal_amount)\n",
    "    principal_amount = updated_amount\n",
    "    #if x == no_of_months_in_data:\n",
    "    Total_Returns.append(returns)\n",
    "    del returns,updated_amount"
   ]
  },
  {
   "cell_type": "code",
   "execution_count": 22,
   "metadata": {
    "scrolled": true
   },
   "outputs": [
    {
     "data": {
      "text/plain": [
       "[            Aggregated_Return_all  Aggregated_Return_Combination\n",
       " 2018-08-02           99870.983075                   99822.117033\n",
       " 2018-08-03           99985.446020                   99877.455871\n",
       " 2018-08-04           99985.446020                   99877.455871\n",
       " 2018-08-05           99985.446020                   99877.455871\n",
       " 2018-08-06          100131.669568                  100038.829949\n",
       " 2018-08-07          100164.869564                  100011.100668\n",
       " 2018-08-08          100253.606043                  100006.895183\n",
       " 2018-08-09          100408.848330                  100136.710150\n",
       " 2018-08-10          100483.109352                  100137.926455\n",
       " 2018-08-11          100483.109352                  100137.926455\n",
       " 2018-08-12          100483.109352                  100137.926455\n",
       " 2018-08-13          100518.264378                  100090.662774\n",
       " 2018-08-14          100585.525762                  100102.148579\n",
       " 2018-08-15          100587.547406                  100042.078443\n",
       " 2018-08-16          100494.030753                   99874.859601\n",
       " 2018-08-17          100757.407968                  100075.873053\n",
       " 2018-08-18          100757.407968                  100075.873053\n",
       " 2018-08-19          100757.407968                  100075.873053\n",
       " 2018-08-20          100862.057615                  100146.422322\n",
       " 2018-08-21          100924.301284                  100146.422322\n",
       " 2018-08-22          100986.517976                  100146.422322\n",
       " 2018-08-23          101072.917251                  100184.181991\n",
       " 2018-08-24          101198.447940                  100232.666905\n",
       " 2018-08-25          101198.447940                  100232.666905\n",
       " 2018-08-26          101198.447940                  100232.666905\n",
       " 2018-08-27          101411.483851                  100402.112026\n",
       " 2018-08-28          101385.903006                  100300.376314\n",
       " 2018-08-29          101365.913959                  100251.663633\n",
       " 2018-08-30          101238.530311                  100092.156691\n",
       " 2018-08-31          101189.235757                  100021.026049\n",
       " 2018-09-01          101189.235757                  100021.026049,\n",
       "             Aggregated_Return_all  Aggregated_Return_Combination\n",
       " 2018-09-02          100021.026049                  100021.026049\n",
       " 2018-09-03          100022.754872                  100071.032555\n",
       " 2018-09-04          100190.346798                  100086.489237\n",
       " 2018-09-05          100144.270140                  100104.697304\n",
       " 2018-09-06          100099.907091                  100124.969138\n",
       " 2018-09-07           99986.987842                  100143.594888\n",
       " 2018-09-08           99986.987842                  100143.594888\n",
       " 2018-09-09           99986.987842                  100143.594888\n",
       " 2018-09-10           99950.365948                  100044.872458\n",
       " 2018-09-11          100103.096461                  100059.912434\n",
       " 2018-09-12          100072.604309                  100072.449104\n",
       " 2018-09-13          100366.853162                  100091.409770\n",
       " 2018-09-14          100387.761813                  100114.261385\n",
       " 2018-09-15          100387.761813                  100114.261385\n",
       " 2018-09-16          100387.761813                  100114.261385\n",
       " 2018-09-17          100255.973848                  100165.422985\n",
       " 2018-09-18          100612.083257                  100165.989497\n",
       " 2018-09-19          100672.811427                  100185.268796\n",
       " 2018-09-20          100727.658549                  100191.887193\n",
       " 2018-09-21          100780.808057                  100191.887193\n",
       " 2018-09-22          100780.808057                  100191.887193\n",
       " 2018-09-23          100780.808057                  100191.887193\n",
       " 2018-09-24          100709.336523                  100182.546218\n",
       " 2018-09-25          100823.595238                  100199.875462\n",
       " 2018-09-26          100812.987759                  100218.325537\n",
       " 2018-09-27          100836.814671                  100240.251745\n",
       " 2018-09-28          101000.778342                  100256.168622\n",
       " 2018-09-29          101000.778342                  100256.168622\n",
       " 2018-09-30          101000.778342                  100256.168622\n",
       " 2018-10-01          101049.607417                  100275.759212,\n",
       "             Aggregated_Return_all  Aggregated_Return_Combination\n",
       " 2018-10-02          100299.839099                  100313.700536\n",
       " 2018-10-03          100212.537369                  100335.986611\n",
       " 2018-10-04          100021.304007                  100358.239468\n",
       " 2018-10-05           99705.097010                  100370.784817\n",
       " 2018-10-06           99705.097010                  100370.784817\n",
       " 2018-10-07           99705.097010                  100370.784817\n",
       " 2018-10-08           99146.648805                  100314.022549\n",
       " 2018-10-09           99671.238111                  100346.756019\n",
       " 2018-10-10           99931.888161                  100370.007951\n",
       " 2018-10-11           99764.405242                  100373.309110\n",
       " 2018-10-12           99400.217243                  100394.161664\n",
       " 2018-10-13           99400.217243                  100394.161664\n",
       " 2018-10-14           99400.217243                  100394.161664\n",
       " 2018-10-15           99168.564187                  100446.720838\n",
       " 2018-10-16           99265.911756                  100461.979695\n",
       " 2018-10-17           99810.882624                  100478.318756\n",
       " 2018-10-18           99945.259858                  100506.412771\n",
       " 2018-10-19          100212.253864                  100526.526665\n",
       " 2018-10-20          100212.253864                  100526.526665\n",
       " 2018-10-21          100212.253864                  100526.526665\n",
       " 2018-10-22          100246.956487                  100472.364906\n",
       " 2018-10-23           99961.770360                  100492.313262\n",
       " 2018-10-24          100804.191778                  100516.057029\n",
       " 2018-10-25          100974.252826                  100567.359258\n",
       " 2018-10-26          101493.779726                  100590.047902\n",
       " 2018-10-27          101493.779726                  100590.047902\n",
       " 2018-10-28          101493.779726                  100590.047902\n",
       " 2018-10-29          102024.307458                  100652.336546\n",
       " 2018-10-30          102135.021601                  100677.173158\n",
       " 2018-10-31          102096.023563                  100696.433490\n",
       " 2018-11-01          102154.122203                  100713.036876,\n",
       "             Aggregated_Return_all  Aggregated_Return_Combination\n",
       " 2018-11-02          100894.673060                  100732.635449\n",
       " 2018-11-03          100894.673060                  100732.635449\n",
       " 2018-11-04          100894.673060                  100732.635449\n",
       " 2018-11-05          100697.007589                  100755.392524\n",
       " 2018-11-06          100452.711823                  100761.342461\n",
       " 2018-11-07          100864.479995                  100761.663120\n",
       " 2018-11-08          100765.030656                  100670.405522\n",
       " 2018-11-09          100839.595816                  100690.795916\n",
       " 2018-11-10          100839.595816                  100690.795916\n",
       " 2018-11-11          100839.595816                  100690.795916\n",
       " 2018-11-12          100747.730489                  100758.692760\n",
       " 2018-11-13          100846.188188                  100763.080070\n",
       " 2018-11-14          100709.020340                  100773.306897\n",
       " 2018-11-15          100988.953025                  100788.955338\n",
       " 2018-11-16          101176.429877                  100801.415678\n",
       " 2018-11-17          101176.429877                  100801.415678\n",
       " 2018-11-18          101176.429877                  100801.415678\n",
       " 2018-11-19          101097.589315                  100754.415210\n",
       " 2018-11-20          101206.257735                  100769.847322\n",
       " 2018-11-21          101251.090533                  100772.446165\n",
       " 2018-11-22          101044.239601                  100806.598221\n",
       " 2018-11-23          101105.232550                  100821.501462\n",
       " 2018-11-24          101105.232550                  100821.501462\n",
       " 2018-11-25          101105.232550                  100821.501462\n",
       " 2018-11-26          101136.609253                  100907.399706\n",
       " 2018-11-27          101281.390895                  100928.194070\n",
       " 2018-11-28          101253.423964                  100946.438158\n",
       " 2018-11-29          101302.393563                  100978.620824\n",
       " 2018-11-30          101298.573318                  100988.088049\n",
       " 2018-12-01          101298.573318                  100988.088049,\n",
       "             Aggregated_Return_all  Aggregated_Return_Combination\n",
       " 2018-12-02          100988.088049                  100988.088049\n",
       " 2018-12-03          100489.035532                  101008.906748\n",
       " 2018-12-04          100795.933969                  101018.390999\n",
       " 2018-12-05          100681.777096                  101041.179125\n",
       " 2018-12-06          100243.114220                  101064.207645\n",
       " 2018-12-07          100413.498756                  101078.264173]"
      ]
     },
     "execution_count": 22,
     "metadata": {},
     "output_type": "execute_result"
    }
   ],
   "source": [
    "Total_Returns"
   ]
  },
  {
   "cell_type": "code",
   "execution_count": null,
   "metadata": {},
   "outputs": [],
   "source": []
  }
 ],
 "metadata": {
  "kernelspec": {
   "display_name": "Python 3",
   "language": "python",
   "name": "python3"
  },
  "language_info": {
   "codemirror_mode": {
    "name": "ipython",
    "version": 3
   },
   "file_extension": ".py",
   "mimetype": "text/x-python",
   "name": "python",
   "nbconvert_exporter": "python",
   "pygments_lexer": "ipython3",
   "version": "3.7.0"
  }
 },
 "nbformat": 4,
 "nbformat_minor": 2
}
